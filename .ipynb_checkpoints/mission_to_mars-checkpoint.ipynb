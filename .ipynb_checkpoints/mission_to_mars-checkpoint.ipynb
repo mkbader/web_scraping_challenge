{
 "cells": [
  {
   "cell_type": "markdown",
   "metadata": {},
   "source": [
    "Import Dependencies"
   ]
  },
  {
   "cell_type": "code",
   "execution_count": 1,
   "metadata": {},
   "outputs": [
    {
     "name": "stdout",
     "output_type": "stream",
     "text": [
      "# packages in environment at C:\\Users\\mebader.NORTHAMERICA\\AppData\\Local\\Continuum\\anaconda3\\envs\\PythonData:\n",
      "#\n",
      "# Name                    Version                   Build  Channel\n",
      "aniso8601                 7.0.0                      py_0    conda-forge\n",
      "antiorm                   1.2.1                    pypi_0    pypi\n",
      "anyjson                   0.3.3                    py37_1  \n",
      "argon2_cffi               19.1.0           py37he774522_0  \n",
      "arrow                     0.13.1                   py37_0  \n",
      "asn1crypto                0.24.0                   py37_0  \n",
      "astroid                   2.2.5                    py37_0  \n",
      "attrs                     19.1.0                   pypi_0    pypi\n",
      "babel                     2.7.0                      py_0  \n",
      "backcall                  0.1.0                    pypi_0    pypi\n",
      "bcrypt                    3.1.6            py37he774522_0  \n",
      "beautifulsoup4            4.8.0                    pypi_0    pypi\n",
      "blas                      1.0                         mkl  \n",
      "bleach                    3.1.0                    pypi_0    pypi\n",
      "ca-certificates           2019.9.11            hecc5488_0    conda-forge\n",
      "certifi                   2019.6.16                py37_1  \n",
      "cffi                      1.12.3           py37h7a1dbc1_0  \n",
      "chardet                   3.0.4                 py37_1003  \n",
      "click                     7.0                      pypi_0    pypi\n",
      "colorama                  0.4.1                    pypi_0    pypi\n",
      "colour                    0.1.5                    py37_0  \n",
      "cryptography              2.7              py37h7a1dbc1_0  \n",
      "db                        0.1.1                    pypi_0    pypi\n",
      "db-sqlite3                0.0.1                    pypi_0    pypi\n",
      "decorator                 4.4.0                    pypi_0    pypi\n",
      "defusedxml                0.6.0                    pypi_0    pypi\n",
      "entrypoints               0.3                      pypi_0    pypi\n",
      "flask                     1.1.1                      py_0  \n",
      "flask-restful             0.3.7                      py_0    conda-forge\n",
      "furl                      2.0.0                    py37_0  \n",
      "html5lib                  1.0.1                    py37_0  \n",
      "icc_rt                    2019.0.0             h0cc432a_1  \n",
      "idna                      2.8                      py37_0  \n",
      "infinity                  1.4                      py37_0  \n",
      "intel-openmp              2019.4                      245  \n",
      "intervals                 0.8.1                    py37_0  \n",
      "ipykernel                 5.1.2                    pypi_0    pypi\n",
      "ipython                   7.8.0                    pypi_0    pypi\n",
      "ipython-genutils          0.2.0                    pypi_0    pypi\n",
      "ipywidgets                7.5.1                    pypi_0    pypi\n",
      "isort                     4.3.21                   py37_0  \n",
      "itsdangerous              1.1.0                    py37_0  \n",
      "jedi                      0.15.1                   pypi_0    pypi\n",
      "jinja2                    2.10.1                   py37_0  \n",
      "jsonschema                3.0.2                    pypi_0    pypi\n",
      "jupyter                   1.0.0                    pypi_0    pypi\n",
      "jupyter-client            5.3.1                    pypi_0    pypi\n",
      "jupyter-console           6.0.0                    pypi_0    pypi\n",
      "jupyter-core              4.5.0                    pypi_0    pypi\n",
      "lazy-object-proxy         1.4.2            py37he774522_0  \n",
      "lxml                      4.4.1                    pypi_0    pypi\n",
      "markupsafe                1.1.1            py37he774522_0  \n",
      "mccabe                    0.6.1                    py37_1  \n",
      "mistune                   0.8.4                    pypi_0    pypi\n",
      "mkl                       2019.4                      245  \n",
      "mkl-service               2.3.0            py37hb782905_0  \n",
      "mkl_fft                   1.0.14           py37h14836fe_0  \n",
      "mkl_random                1.0.2            py37h343c172_0  \n",
      "nbconvert                 5.6.0                    pypi_0    pypi\n",
      "nbformat                  4.4.0                    pypi_0    pypi\n",
      "notebook                  6.0.1                    pypi_0    pypi\n",
      "numpy                     1.16.4           py37h19fb1c0_0  \n",
      "numpy-base                1.16.4           py37hc3f5095_0  \n",
      "openssl                   1.1.1c               hfa6e2cd_0    conda-forge\n",
      "orderedmultidict          1.0.1                    py37_0  \n",
      "pandas                    0.25.1           py37ha925a31_0  \n",
      "pandocfilters             1.4.2                    pypi_0    pypi\n",
      "parso                     0.5.1                    pypi_0    pypi\n",
      "passlib                   1.7.1            py37h28b3542_0  \n",
      "phonenumbers              8.10.15                    py_0  \n",
      "pickleshare               0.7.5                    pypi_0    pypi\n",
      "pip                       19.2.2                   py37_0  \n",
      "prometheus-client         0.7.1                    pypi_0    pypi\n",
      "prompt-toolkit            2.0.9                    pypi_0    pypi\n",
      "pycparser                 2.19                     py37_0  \n",
      "pygments                  2.4.2                    pypi_0    pypi\n",
      "pylint                    2.3.1                    py37_0  \n",
      "pyopenssl                 19.0.0                   py37_0  \n",
      "pyrsistent                0.15.4                   pypi_0    pypi\n",
      "pysocks                   1.7.0                    py37_0  \n",
      "python                    3.7.4                h5263a28_0  \n",
      "python-dateutil           2.8.0                    py37_0  \n",
      "pytz                      2019.2                     py_0  \n",
      "pywinpty                  0.5.5                    pypi_0    pypi\n",
      "pyzmq                     18.1.0                   pypi_0    pypi\n",
      "qtconsole                 4.5.5                    pypi_0    pypi\n",
      "requests                  2.22.0                   py37_0  \n",
      "scipy                     1.3.1            py37h29ff71c_0  \n",
      "selenium                  3.141.0         py37hfa6e2cd_1000    conda-forge\n",
      "send2trash                1.5.0                    pypi_0    pypi\n",
      "setuptools                41.0.1                   py37_0  \n",
      "six                       1.12.0                   py37_0  \n",
      "soupsieve                 1.9.3                    pypi_0    pypi\n",
      "splinter                  0.11.0                   pypi_0    pypi\n",
      "sqlalchemy                1.3.7            py37he774522_0  \n",
      "sqlalchemy-utils          0.34.1                     py_0    conda-forge\n",
      "sqlite                    3.29.0               he774522_0  \n",
      "terminado                 0.8.2                    pypi_0    pypi\n",
      "testpath                  0.4.2                    pypi_0    pypi\n",
      "tornado                   6.0.3                    pypi_0    pypi\n",
      "traitlets                 4.3.2                    pypi_0    pypi\n",
      "urllib3                   1.25.3                   pypi_0    pypi\n",
      "vc                        14.1                 h0510ff6_4  \n",
      "vs2015_runtime            14.16.27012          hf0eaf9b_0  \n",
      "wcwidth                   0.1.7                    pypi_0    pypi\n",
      "webencodings              0.5.1                    pypi_0    pypi\n",
      "werkzeug                  0.15.5                     py_0  \n",
      "wheel                     0.33.4                   py37_0  \n",
      "widgetsnbextension        3.5.1                    pypi_0    pypi\n",
      "win_inet_pton             1.1.0                    py37_0  \n",
      "wincertstore              0.2                      py37_0  \n",
      "wrapt                     1.11.2           py37he774522_0  \n"
     ]
    }
   ],
   "source": [
    "! conda list"
   ]
  },
  {
   "cell_type": "code",
   "execution_count": 3,
   "metadata": {},
   "outputs": [],
   "source": [
    "import pandas as pd\n",
    "import os\n"
   ]
  },
  {
   "cell_type": "code",
   "execution_count": 4,
   "metadata": {},
   "outputs": [],
   "source": [
    "from bs4 import BeautifulSoup as bs"
   ]
  },
  {
   "cell_type": "code",
   "execution_count": 5,
   "metadata": {},
   "outputs": [],
   "source": [
    "from selenium import webdriver  "
   ]
  },
  {
   "cell_type": "code",
   "execution_count": 6,
   "metadata": {},
   "outputs": [],
   "source": [
    "from splinter import Browser\n",
    "\n",
    "driver = webdriver.Chrome(executable_path=os.path.abspath(\"chromedriver.exe\"))\n",
    "                                   "
   ]
  },
  {
   "cell_type": "code",
   "execution_count": 7,
   "metadata": {},
   "outputs": [],
   "source": [
    "import requests\n",
    "import html5lib"
   ]
  },
  {
   "cell_type": "markdown",
   "metadata": {},
   "source": [
    "Open URLs and Get Info"
   ]
  },
  {
   "cell_type": "code",
   "execution_count": 8,
   "metadata": {},
   "outputs": [],
   "source": [
    "#Mars News portion\n",
    "mars_news = {}\n",
    "mars_para = []"
   ]
  },
  {
   "cell_type": "code",
   "execution_count": 9,
   "metadata": {},
   "outputs": [],
   "source": [
    "base_url = \"https://mars.nasa.gov/\" \n",
    "news_url = \"https://mars.nasa.gov/news\"\n",
    "resp_1 = requests.get(news_url)                                             \n",
    "\n",
    "mars_soup = bs(resp_1.text, 'html.parser') "
   ]
  },
  {
   "cell_type": "code",
   "execution_count": 10,
   "metadata": {},
   "outputs": [],
   "source": [
    "class_div = mars_soup.find(class_=\"slide\")                                  \n",
    "marssoup_news = class_div.find_all('a')                                           \n",
    "marsnews_title = marssoup_news[1].get_text().strip()  "
   ]
  },
  {
   "cell_type": "code",
   "execution_count": 11,
   "metadata": {},
   "outputs": [],
   "source": [
    "soup_p = class_div.find_all('a', href=True)                                 \n",
    "soup_p_url = soup_p[0]['href']                                               \n",
    "paragraph_url = base_url + soup_p_url                                        \n",
    "response_2 = requests.get(paragraph_url)                                          \n",
    "paragraph_soup = bs(response_2.text, \"html.parser\")                               \n",
    "mars_paragraphs = paragraph_soup.find(class_='wysiwyg_content')                     \n",
    "paragraphs = mars_paragraphs.find_all('p')"
   ]
  },
  {
   "cell_type": "code",
   "execution_count": 12,
   "metadata": {},
   "outputs": [],
   "source": [
    "for paragraph in paragraphs:                                                 \n",
    "    simple_paragraph = paragraph.get_text().strip()                              \n",
    "    mars_para.append(simple_paragraph)   "
   ]
  },
  {
   "cell_type": "code",
   "execution_count": 13,
   "metadata": {},
   "outputs": [],
   "source": [
    "mars_news[\"news_title\"] = marsnews_title\n",
    "mars_news[\"paragraph_1\"] = mars_para[0]\n",
    "mars_news[\"paragraph_2\"] = mars_para[1]"
   ]
  },
  {
   "cell_type": "code",
   "execution_count": 14,
   "metadata": {},
   "outputs": [
    {
     "data": {
      "text/plain": [
       "{'news_title': 'NASA Invites Students to Name Mars 2020 Rover',\n",
       " 'paragraph_1': 'Red rover, red rover, send a name for Mars 2020 right over! NASA is recruiting help from students nationwide to find a name for its next Mars rover mission.',\n",
       " 'paragraph_2': 'Starting Tuesday, Aug. 27, K-12 students in U.S. public, private and home schools can enter the Mars 2020 Name the Rover essay contest. One grand prize winner will name the rover and be invited to see the spacecraft launch in July 2020 from Cape Canaveral Air Force Station in Florida.'}"
      ]
     },
     "execution_count": 14,
     "metadata": {},
     "output_type": "execute_result"
    }
   ],
   "source": [
    "mars_news\n"
   ]
  },
  {
   "cell_type": "markdown",
   "metadata": {},
   "source": [
    "Now get images from the jpl site to bring in to the web page"
   ]
  },
  {
   "cell_type": "code",
   "execution_count": 15,
   "metadata": {},
   "outputs": [],
   "source": [
    "browser = Browser('chrome', headless=False) \n",
    "#browser = browser('Chrome')\n",
    "jpl_base_url = 'https://photojournal.jpl.nasa.gov/jpeg/'               \n",
    "jpl_image_url = \"https://www.jpl.nasa.gov/spaceimages/?search=&category=Mars\""
   ]
  },
  {
   "cell_type": "code",
   "execution_count": 16,
   "metadata": {},
   "outputs": [],
   "source": [
    "browser.visit(jpl_image_url)\n",
    "image_html = browser.html\n",
    "image_soup = bs(image_html, 'html.parser')"
   ]
  },
  {
   "cell_type": "code",
   "execution_count": 17,
   "metadata": {},
   "outputs": [],
   "source": [
    "featured_image_list = []\n",
    "for image in image_soup.find_all('div',class_=\"img\"):\n",
    "    featured_image_list.append(image.find('img').get('src'))"
   ]
  },
  {
   "cell_type": "code",
   "execution_count": 18,
   "metadata": {},
   "outputs": [],
   "source": [
    "picture_shown = featured_image_list[0]\n",
    "remove_size = picture_shown.split('-')\n",
    "remove_fn = remove_size[0].split('/')\n",
    "featured_image_url = jpl_base_url + remove_fn[-1] + '.jpg'\n"
   ]
  },
  {
   "cell_type": "code",
   "execution_count": 19,
   "metadata": {},
   "outputs": [
    {
     "data": {
      "text/plain": [
       "'https://photojournal.jpl.nasa.gov/jpeg/PIA23449.jpg'"
      ]
     },
     "execution_count": 19,
     "metadata": {},
     "output_type": "execute_result"
    }
   ],
   "source": [
    "featured_image_url"
   ]
  },
  {
   "cell_type": "code",
   "execution_count": 20,
   "metadata": {},
   "outputs": [],
   "source": [
    "browser.quit()"
   ]
  },
  {
   "cell_type": "markdown",
   "metadata": {},
   "source": [
    "Get Mars Twitter feed"
   ]
  },
  {
   "cell_type": "code",
   "execution_count": 21,
   "metadata": {},
   "outputs": [],
   "source": [
    "browser = Browser('chrome', headless=False)\n",
    "twitter_url = 'https://twitter.com/marswxreport?lang=en'\n",
    "browser.visit(twitter_url)"
   ]
  },
  {
   "cell_type": "code",
   "execution_count": 22,
   "metadata": {},
   "outputs": [],
   "source": [
    "twitter_html = browser.html\n",
    "twitter_soup = bs(twitter_html, 'html.parser')"
   ]
  },
  {
   "cell_type": "code",
   "execution_count": 23,
   "metadata": {},
   "outputs": [
    {
     "name": "stdout",
     "output_type": "stream",
     "text": [
      "Weeeeee!  https://www.jpl.nasa.gov/spaceimages/details.php?id=PIA23461 …pic.twitter.com/iuEqJjsQ4G\n"
     ]
    }
   ],
   "source": [
    "#twitter_soup.find('div', attrs={\"class\": \"tweet\", \"data-name\": \"Mars Weather\"})\n",
    "mars_weather = twitter_soup.find(\"p\", class_=\"TweetTextSize TweetTextSize--normal js-tweet-text tweet-text\").text\n",
    "print(mars_weather)\n",
    "\n",
    "\n",
    "#mars_weather"
   ]
  },
  {
   "cell_type": "markdown",
   "metadata": {},
   "source": [
    "Get Mars Facts"
   ]
  },
  {
   "cell_type": "code",
   "execution_count": 24,
   "metadata": {},
   "outputs": [],
   "source": [
    "mars_facts_url = 'https://space-facts.com/mars/'\n"
   ]
  },
  {
   "cell_type": "code",
   "execution_count": 25,
   "metadata": {},
   "outputs": [],
   "source": [
    "mars_facts_pd = pd.read_html(mars_facts_url)"
   ]
  },
  {
   "cell_type": "code",
   "execution_count": 26,
   "metadata": {},
   "outputs": [],
   "source": [
    "mars_facts_df = mars_facts_pd[0]"
   ]
  },
  {
   "cell_type": "code",
   "execution_count": 27,
   "metadata": {},
   "outputs": [
    {
     "name": "stdout",
     "output_type": "stream",
     "text": [
      "<table border=\"1\" class=\"dataframe\">\n",
      "  <tbody>\n",
      "    <tr>\n",
      "      <td>Diameter:</td>\n",
      "      <td>6,779 km</td>\n",
      "      <td>12,742 km</td>\n",
      "    </tr>\n",
      "    <tr>\n",
      "      <td>Mass:</td>\n",
      "      <td>6.39 × 10^23 kg</td>\n",
      "      <td>5.97 × 10^24 kg</td>\n",
      "    </tr>\n",
      "    <tr>\n",
      "      <td>Moons:</td>\n",
      "      <td>2</td>\n",
      "      <td>1</td>\n",
      "    </tr>\n",
      "    <tr>\n",
      "      <td>Distance from Sun:</td>\n",
      "      <td>227,943,824 km</td>\n",
      "      <td>149,598,262 km</td>\n",
      "    </tr>\n",
      "    <tr>\n",
      "      <td>Length of Year:</td>\n",
      "      <td>687 Earth days</td>\n",
      "      <td>365.24 days</td>\n",
      "    </tr>\n",
      "    <tr>\n",
      "      <td>Temperature:</td>\n",
      "      <td>-153 to 20 °C</td>\n",
      "      <td>-88 to 58°C</td>\n",
      "    </tr>\n",
      "  </tbody>\n",
      "</table>\n"
     ]
    }
   ],
   "source": [
    "mars_facts_table = mars_facts_df.to_html(header=False, index=False)\n",
    "print(mars_facts_table)"
   ]
  },
  {
   "cell_type": "markdown",
   "metadata": {},
   "source": [
    "Get Mars Hemispheres photos"
   ]
  },
  {
   "cell_type": "code",
   "execution_count": 28,
   "metadata": {},
   "outputs": [],
   "source": [
    "import time \n",
    "hemispheres_url = \"https://astrogeology.usgs.gov/search/results?q=hemisphere+enhanced&k1=target&v1=Mars\"\n",
    "browser.visit(hemispheres_url)\n",
    "html = browser.html\n",
    "soup = bs(html, \"html.parser\")\n",
    "mars_hemisphere = []\n",
    "\n",
    "products = soup.find(\"div\", class_ = \"result-list\" )\n",
    "hemispheres = products.find_all(\"div\", class_=\"item\")\n",
    "\n",
    "for hemisphere in hemispheres:\n",
    "    title = hemisphere.find(\"h3\").text\n",
    "    title = title.replace(\"Enhanced\", \"\")\n",
    "    end_link = hemisphere.find(\"a\")[\"href\"]\n",
    "    image_link = \"https://astrogeology.usgs.gov/\" + end_link    \n",
    "    browser.visit(image_link)\n",
    "    html = browser.html\n",
    "    soup= bs(html, \"html.parser\")\n",
    "    downloads = soup.find(\"div\", class_=\"downloads\")\n",
    "    image_url = downloads.find(\"a\")[\"href\"]\n",
    "    mars_hemisphere.append({\"title\": title, \"img_url\": image_url})"
   ]
  },
  {
   "cell_type": "code",
   "execution_count": 29,
   "metadata": {},
   "outputs": [
    {
     "data": {
      "text/plain": [
       "[{'title': 'Cerberus Hemisphere ',\n",
       "  'img_url': 'http://astropedia.astrogeology.usgs.gov/download/Mars/Viking/cerberus_enhanced.tif/full.jpg'},\n",
       " {'title': 'Schiaparelli Hemisphere ',\n",
       "  'img_url': 'http://astropedia.astrogeology.usgs.gov/download/Mars/Viking/schiaparelli_enhanced.tif/full.jpg'},\n",
       " {'title': 'Syrtis Major Hemisphere ',\n",
       "  'img_url': 'http://astropedia.astrogeology.usgs.gov/download/Mars/Viking/syrtis_major_enhanced.tif/full.jpg'},\n",
       " {'title': 'Valles Marineris Hemisphere ',\n",
       "  'img_url': 'http://astropedia.astrogeology.usgs.gov/download/Mars/Viking/valles_marineris_enhanced.tif/full.jpg'}]"
      ]
     },
     "execution_count": 29,
     "metadata": {},
     "output_type": "execute_result"
    }
   ],
   "source": [
    "mars_hemisphere"
   ]
  },
  {
   "cell_type": "code",
   "execution_count": null,
   "metadata": {},
   "outputs": [],
   "source": []
  }
 ],
 "metadata": {
  "kernelspec": {
   "display_name": "Python 36 (PythonData)",
   "language": "python",
   "name": "pythondata"
  },
  "language_info": {
   "codemirror_mode": {
    "name": "ipython",
    "version": 3
   },
   "file_extension": ".py",
   "mimetype": "text/x-python",
   "name": "python",
   "nbconvert_exporter": "python",
   "pygments_lexer": "ipython3",
   "version": "3.7.4"
  }
 },
 "nbformat": 4,
 "nbformat_minor": 2
}
